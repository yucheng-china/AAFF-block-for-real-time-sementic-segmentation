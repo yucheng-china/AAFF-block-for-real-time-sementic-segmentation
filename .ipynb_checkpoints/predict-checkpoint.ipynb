{
 "cells": [
  {
   "cell_type": "code",
   "execution_count": 1,
   "metadata": {
    "scrolled": true
   },
   "outputs": [
    {
     "name": "stderr",
     "output_type": "stream",
     "text": [
      "C:\\Users\\Administrator\\Anaconda3\\envs\\tensorflow-gpu\\lib\\site-packages\\tensorflow\\python\\framework\\dtypes.py:469: FutureWarning: Passing (type, 1) or '1type' as a synonym of type is deprecated; in a future version of numpy, it will be understood as (type, (1,)) / '(1,)type'.\n",
      "  _np_qint8 = np.dtype([(\"qint8\", np.int8, 1)])\n",
      "C:\\Users\\Administrator\\Anaconda3\\envs\\tensorflow-gpu\\lib\\site-packages\\tensorflow\\python\\framework\\dtypes.py:470: FutureWarning: Passing (type, 1) or '1type' as a synonym of type is deprecated; in a future version of numpy, it will be understood as (type, (1,)) / '(1,)type'.\n",
      "  _np_quint8 = np.dtype([(\"quint8\", np.uint8, 1)])\n",
      "C:\\Users\\Administrator\\Anaconda3\\envs\\tensorflow-gpu\\lib\\site-packages\\tensorflow\\python\\framework\\dtypes.py:471: FutureWarning: Passing (type, 1) or '1type' as a synonym of type is deprecated; in a future version of numpy, it will be understood as (type, (1,)) / '(1,)type'.\n",
      "  _np_qint16 = np.dtype([(\"qint16\", np.int16, 1)])\n",
      "C:\\Users\\Administrator\\Anaconda3\\envs\\tensorflow-gpu\\lib\\site-packages\\tensorflow\\python\\framework\\dtypes.py:472: FutureWarning: Passing (type, 1) or '1type' as a synonym of type is deprecated; in a future version of numpy, it will be understood as (type, (1,)) / '(1,)type'.\n",
      "  _np_quint16 = np.dtype([(\"quint16\", np.uint16, 1)])\n",
      "C:\\Users\\Administrator\\Anaconda3\\envs\\tensorflow-gpu\\lib\\site-packages\\tensorflow\\python\\framework\\dtypes.py:473: FutureWarning: Passing (type, 1) or '1type' as a synonym of type is deprecated; in a future version of numpy, it will be understood as (type, (1,)) / '(1,)type'.\n",
      "  _np_qint32 = np.dtype([(\"qint32\", np.int32, 1)])\n",
      "C:\\Users\\Administrator\\Anaconda3\\envs\\tensorflow-gpu\\lib\\site-packages\\tensorflow\\python\\framework\\dtypes.py:476: FutureWarning: Passing (type, 1) or '1type' as a synonym of type is deprecated; in a future version of numpy, it will be understood as (type, (1,)) / '(1,)type'.\n",
      "  np_resource = np.dtype([(\"resource\", np.ubyte, 1)])\n"
     ]
    },
    {
     "name": "stdout",
     "output_type": "stream",
     "text": [
      "\n",
      "***** Begin prediction *****\n",
      "Dataset --> CamVid\n",
      "Model --> BiSeNet\n",
      "Crop Height --> 640\n",
      "Crop Width --> 800\n",
      "Num Classes --> 32\n",
      "Image --> ./images/0016E5_08147_L.png\n",
      "Preparing the model ...\n",
      "Loading model checkpoint weights\n",
      "INFO:tensorflow:Restoring parameters from ./checkpoints/latest_model_BiSeNet_CamVid.ckpt\n",
      "time: 2.1301, about 0.469457 fps\n",
      "time: 2.4781, about 0.403528 fps\n",
      "time: 2.0621, about 0.484938 fps\n",
      "time: 2.0411, about 0.489928 fps\n",
      "time: 2.3091, about 0.433063 fps\n",
      "Average time: 2.2041, about 0.453695 fps\n",
      "\n",
      "Finished!\n",
      "Wrote image 0016E5_08147_L_pred.png\n"
     ]
    }
   ],
   "source": [
    "import os,time,cv2, sys, math\n",
    "import tensorflow as tf\n",
    "import argparse\n",
    "import numpy as np\n",
    "import os\n",
    "from utils import utils, helpers\n",
    "from builders import model_builder\n",
    "\n",
    "# sepcify the gpu\n",
    "os.environ['CUDA_VISIBLE_DEVICES'] = '/device:GPU:0'\n",
    "# hyper-parameters setting\n",
    "parser = argparse.ArgumentParser()\n",
    "parser.add_argument('--image', type=str, default=\"./images/0016E5_08147_L.png\", help='The image you want to predict on.')\n",
    "parser.add_argument('--checkpoint_path', type=str, default=\"./checkpoints/latest_model_BiSeNet_CamVid.ckpt\", help='The path to the latest checkpoint weights for your model.')\n",
    "parser.add_argument('--crop_height', type=int, default=640, help='Height of cropped input image to network')\n",
    "parser.add_argument('--crop_width', type=int, default=800, help='Width of cropped input image to network')\n",
    "parser.add_argument('--model', type=str, default=\"BiSeNet\", help='The model you are using')\n",
    "parser.add_argument('--dataset', type=str, default=\"CamVid\", help='The dataset you are using')\n",
    "args = parser.parse_args(args=[])\n",
    "\n",
    "class_names_list, label_values = helpers.get_label_info(os.path.join(args.dataset, \"class_dict.csv\"))\n",
    "\n",
    "num_classes = len(label_values)\n",
    "infer_size = (800, 640)\n",
    "print(\"\\n***** Begin prediction *****\")\n",
    "print(\"Dataset -->\", args.dataset)\n",
    "print(\"Model -->\", args.model)\n",
    "print(\"Crop Height -->\", args.crop_height)\n",
    "print(\"Crop Width -->\", args.crop_width)\n",
    "print(\"Num Classes -->\", num_classes)\n",
    "print(\"Image -->\", args.image)\n",
    "\n",
    "# allow the use of gpu\n",
    "config = tf.ConfigProto()\n",
    "config.gpu_options.allow_growth = True\n",
    "sess=tf.Session(config=config)\n",
    "# Use placeholders as formal parameters to reduce the op of the training process\n",
    "net_input = tf.placeholder(tf.float32,shape=[None,None,None,3])\n",
    "# load the network (BiseNet, depth-wise BiseNet, depth-wise AAFF, depth-wise AAFF2)\n",
    "network, _ = model_builder.build_model(args.model, net_input=net_input,\n",
    "                                        num_classes=num_classes,\n",
    "                                        crop_width=args.crop_width,\n",
    "                                        crop_height=args.crop_height,\n",
    "                                        is_training=False)\n",
    "\n",
    "sess.run(tf.global_variables_initializer())\n",
    "\n",
    "print('Loading model checkpoint weights')\n",
    "saver=tf.train.Saver(max_to_keep=500)\n",
    "# load the model weights\n",
    "saver.restore(sess, args.checkpoint_path)\n",
    "# load the target image for prediction\n",
    "loaded_image = utils.load_image(args.image)\n",
    "resized_image =cv2.resize(loaded_image, (args.crop_width, args.crop_height))\n",
    "input_image = np.expand_dims(np.float32(resized_image[:args.crop_height, :args.crop_width]),axis=0)/255.0\n",
    "# perform prediction\n",
    "output_image = sess.run(network, feed_dict={net_input:input_image})\n",
    "\n",
    "# compute the inference speed\n",
    "elapse = []\n",
    "for i in range(50):\n",
    "    start = time.time()\n",
    "    output_image = sess.run(network, feed_dict={net_input:input_image})\n",
    "    duration = time.time() - start\n",
    "    print('time: {:.4f}, about {:.6f} fps'.format(duration, 1 / duration))\n",
    "    elapse.append(duration)\n",
    "print('Average time: {:.4f}, about {:.6f} fps'.format(np.mean(elapse), 1 / np.mean(elapse)))\n",
    "\n",
    "# output a colored predicted image\n",
    "output_image = np.array(output_image[0,:,:,:])\n",
    "output_image = helpers.reverse_one_hot(output_image)\n",
    "out_vis_image = helpers.colour_code_segmentation(output_image, label_values)\n",
    "file_name = utils.filepath_to_name(args.image)\n",
    "cv2.imwrite(\"%s_pred.png\"%(file_name),cv2.cvtColor(np.uint8(out_vis_image), cv2.COLOR_RGB2BGR))\n",
    "\n",
    "print(\"\")\n",
    "print(\"Finished!\")\n",
    "print(\"Wrote image \" + \"%s_pred.png\"%(file_name))\n"
   ]
  },
  {
   "cell_type": "code",
   "execution_count": 2,
   "metadata": {},
   "outputs": [
    {
     "name": "stdout",
     "output_type": "stream",
     "text": [
      "1.4.0\n"
     ]
    }
   ],
   "source": [
    "import tensorflow as tf\n",
    "print(tf.__version__)"
   ]
  },
  {
   "cell_type": "code",
   "execution_count": null,
   "metadata": {},
   "outputs": [],
   "source": []
  },
  {
   "cell_type": "code",
   "execution_count": null,
   "metadata": {},
   "outputs": [],
   "source": []
  }
 ],
 "metadata": {
  "kernelspec": {
   "display_name": "Python(tensorflow-gpu)",
   "language": "python",
   "name": "tensorflow-gpu"
  },
  "language_info": {
   "codemirror_mode": {
    "name": "ipython",
    "version": 3
   },
   "file_extension": ".py",
   "mimetype": "text/x-python",
   "name": "python",
   "nbconvert_exporter": "python",
   "pygments_lexer": "ipython3",
   "version": "3.5.6"
  }
 },
 "nbformat": 4,
 "nbformat_minor": 4
}
